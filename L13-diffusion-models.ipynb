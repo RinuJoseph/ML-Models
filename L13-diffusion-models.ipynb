{
 "cells": [
  {
   "cell_type": "markdown",
   "metadata": {},
   "source": [
    "### Source : https://huggingface.co/learn/diffusion-course/en/unit1/3 "
   ]
  },
  {
   "cell_type": "code",
   "execution_count": null,
   "metadata": {},
   "outputs": [],
   "source": [
    "import torch\n",
    "import torchvision\n",
    "from torch import nn\n",
    "from torch.nn import functional as F\n",
    "from torch.utils.data import DataLoader\n",
    "from diffusers import DDPMScheduler, UNet2DModel\n",
    "from matplotlib import pyplot as plt\n",
    "\n",
    "device = torch.device(\"cuda\" if torch.cuda.is_available() else \"cpu\")\n",
    "print(f'Using device: {device}')"
   ]
  },
  {
   "cell_type": "code",
   "execution_count": null,
   "metadata": {},
   "outputs": [],
   "source": [
    "dataset = torchvision.datasets.MNIST(root=\"mnist/\", train=True, download=True, transform=torchvision.transforms.ToTensor())"
   ]
  },
  {
   "cell_type": "code",
   "execution_count": null,
   "metadata": {},
   "outputs": [],
   "source": [
    "train_dataloader = DataLoader(dataset, batch_size=8, shuffle=True)"
   ]
  },
  {
   "cell_type": "code",
   "execution_count": null,
   "metadata": {},
   "outputs": [],
   "source": [
    "x, y = next(iter(train_dataloader))\n",
    "print('Input shape:', x.shape)\n",
    "print('Labels:', y)\n",
    "plt.imshow(torchvision.utils.make_grid(x)[0], cmap='Greys');\n"
   ]
  },
  {
   "cell_type": "code",
   "execution_count": null,
   "metadata": {},
   "outputs": [],
   "source": [
    "def corrupt(x, amount):\n",
    "  \"\"\"Corrupt the input `x` by mixing it with noise according to `amount`\"\"\"\n",
    "  noise = torch.rand_like(x)\n",
    "  amount = amount.view(-1, 1, 1, 1) # Sort shape so broadcasting works\n",
    "  return x*(1-amount) + noise*amount "
   ]
  },
  {
   "cell_type": "code",
   "execution_count": null,
   "metadata": {},
   "outputs": [],
   "source": [
    "# Plotting the input data\n",
    "fig, axs = plt.subplots(2, 1, figsize=(12, 5))\n",
    "axs[0].set_title('Input data')\n",
    "axs[0].imshow(torchvision.utils.make_grid(x)[0], cmap='Greys')\n",
    "\n",
    "# Adding noise\n",
    "amount = torch.linspace(0, 1, x.shape[0]) # Left to right -> more corruption\n",
    "noised_x = corrupt(x, amount)\n",
    "\n",
    "# Plotting the noised version\n",
    "axs[1].set_title('Corrupted data (-- amount increases -->)')\n",
    "axs[1].imshow(torchvision.utils.make_grid(noised_x)[0], cmap='Greys');"
   ]
  },
  {
   "cell_type": "code",
   "execution_count": null,
   "metadata": {},
   "outputs": [],
   "source": [
    "class BasicUNet(nn.Module):\n",
    "    \"\"\"A minimal UNet implementation.\"\"\"\n",
    "    def __init__(self, in_channels=1, out_channels=1):\n",
    "        super().__init__()\n",
    "        self.down_layers = torch.nn.ModuleList([ \n",
    "            nn.Conv2d(in_channels, 32, kernel_size=5, padding=2),\n",
    "            nn.Conv2d(32, 64, kernel_size=5, padding=2),\n",
    "            nn.Conv2d(64, 64, kernel_size=5, padding=2),\n",
    "        ])\n",
    "        self.up_layers = torch.nn.ModuleList([\n",
    "            nn.Conv2d(64, 64, kernel_size=5, padding=2),\n",
    "            nn.Conv2d(64, 32, kernel_size=5, padding=2),\n",
    "            nn.Conv2d(32, out_channels, kernel_size=5, padding=2), \n",
    "        ])\n",
    "        self.act = nn.SiLU() # The activation function\n",
    "        self.downscale = nn.MaxPool2d(2)\n",
    "        self.upscale = nn.Upsample(scale_factor=2)\n",
    "\n",
    "    def forward(self, x):\n",
    "        h = []\n",
    "        for i, l in enumerate(self.down_layers):\n",
    "            x = self.act(l(x)) # Through the layer and the activation function\n",
    "            if i < 2: # For all but the third (final) down layer:\n",
    "              h.append(x) # Storing output for skip connection\n",
    "              x = self.downscale(x) # Downscale ready for the next layer\n",
    "              \n",
    "        for i, l in enumerate(self.up_layers):\n",
    "            if i > 0: # For all except the first up layer\n",
    "              x = self.upscale(x) # Upscale\n",
    "              x += h.pop() # Fetching stored output (skip connection)\n",
    "            x = self.act(l(x)) # Through the layer and the activation function\n",
    "            \n",
    "        return x"
   ]
  },
  {
   "cell_type": "code",
   "execution_count": null,
   "metadata": {},
   "outputs": [],
   "source": [
    "net = BasicUNet()\n",
    "x = torch.rand(8, 1, 28, 28)\n",
    "net(x).shape"
   ]
  },
  {
   "cell_type": "code",
   "execution_count": null,
   "metadata": {},
   "outputs": [],
   "source": [
    "sum([p.numel() for p in net.parameters()])"
   ]
  },
  {
   "cell_type": "code",
   "execution_count": null,
   "metadata": {},
   "outputs": [],
   "source": [
    "# Dataloader (you can mess with batch size)\n",
    "batch_size = 128\n",
    "train_dataloader = DataLoader(dataset, batch_size=batch_size, shuffle=True)\n",
    "\n",
    "# How many runs through the data should we do?\n",
    "n_epochs = 10\n",
    "\n",
    "# Create the network\n",
    "net = BasicUNet()\n",
    "net.to(device)\n",
    "\n",
    "# Our loss function\n",
    "loss_fn = nn.MSELoss()\n",
    "\n",
    "# The optimizer\n",
    "opt = torch.optim.Adam(net.parameters(), lr=1e-3) \n",
    "\n",
    "# Keeping a record of the losses for later viewing\n",
    "losses = []\n",
    "\n",
    "# The training loop\n",
    "for epoch in range(n_epochs):\n",
    "\n",
    "    for x, y in train_dataloader:\n",
    "\n",
    "        # Get some data and prepare the corrupted version\n",
    "        x = x.to(device) # Data on the GPU\n",
    "        noise_amount = torch.rand(x.shape[0]).to(device) # Pick random noise amounts\n",
    "        noisy_x = corrupt(x, noise_amount) # Create our noisy x\n",
    "\n",
    "        # Get the model prediction\n",
    "        pred = net(noisy_x)\n",
    "\n",
    "        # Calculate the loss\n",
    "        loss = loss_fn(pred, x) # How close is the output to the true 'clean' x?\n",
    "\n",
    "        # Backprop and update the params:\n",
    "        opt.zero_grad()\n",
    "        loss.backward()\n",
    "        opt.step()\n",
    "\n",
    "        # Store the loss for later\n",
    "        losses.append(loss.item())\n",
    "\n",
    "    # Print our the average of the loss values for this epoch:\n",
    "    avg_loss = sum(losses[-len(train_dataloader):])/len(train_dataloader)\n",
    "    print(f'Finished epoch {epoch}. Average loss for this epoch: {avg_loss:05f}')\n",
    "\n",
    "# View the loss curve\n",
    "plt.plot(losses)\n",
    "plt.ylim(0, 0.1);"
   ]
  },
  {
   "cell_type": "code",
   "execution_count": null,
   "metadata": {},
   "outputs": [],
   "source": [
    "#@markdown Visualizing model predictions on noisy inputs:\n",
    "\n",
    "# Fetch some data\n",
    "x, y = next(iter(train_dataloader))\n",
    "x = x[:8] # Only using the first 8 for easy plotting\n",
    "\n",
    "# Corrupt with a range of amounts\n",
    "amount = torch.linspace(0, 1, x.shape[0]) # Left to right -> more corruption\n",
    "noised_x = corrupt(x, amount)\n",
    "\n",
    "# Get the model predictions\n",
    "with torch.no_grad():\n",
    "  preds = net(noised_x.to(device)).detach().cpu()\n",
    "\n",
    "# Plot\n",
    "fig, axs = plt.subplots(3, 1, figsize=(12, 7))\n",
    "axs[0].set_title('Input data')\n",
    "axs[0].imshow(torchvision.utils.make_grid(x)[0].clip(0, 1), cmap='Greys')\n",
    "axs[1].set_title('Corrupted data')\n",
    "axs[1].imshow(torchvision.utils.make_grid(noised_x)[0].clip(0, 1), cmap='Greys')\n",
    "axs[2].set_title('Network Predictions')\n",
    "axs[2].imshow(torchvision.utils.make_grid(preds)[0].clip(0, 1), cmap='Greys');"
   ]
  },
  {
   "cell_type": "code",
   "execution_count": null,
   "metadata": {},
   "outputs": [],
   "source": []
  },
  {
   "cell_type": "code",
   "execution_count": null,
   "metadata": {},
   "outputs": [],
   "source": []
  }
 ],
 "metadata": {
  "kernelspec": {
   "display_name": "ML-env",
   "language": "python",
   "name": "python3"
  },
  "language_info": {
   "codemirror_mode": {
    "name": "ipython",
    "version": 3
   },
   "file_extension": ".py",
   "mimetype": "text/x-python",
   "name": "python",
   "nbconvert_exporter": "python",
   "pygments_lexer": "ipython3",
   "version": "3.10.15"
  }
 },
 "nbformat": 4,
 "nbformat_minor": 2
}
